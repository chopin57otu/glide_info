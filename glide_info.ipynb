{
 "cells": [
  {
   "cell_type": "code",
   "execution_count": 1,
   "metadata": {},
   "outputs": [],
   "source": [
    "import pathlib\n",
    "\n",
    "import requests\n",
    "from bs4 import BeautifulSoup\n",
    "from PIL import Image\n",
    "from io import BytesIO\n",
    "\n",
    "from fpdf import FPDF\n",
    "\n",
    "import subprocess\n",
    "\n",
    "import re\n",
    "\n",
    "import datetime\n",
    "import markdown2\n",
    "\n",
    "import time\n",
    "\n",
    "from selenium import webdriver"
   ]
  },
  {
   "cell_type": "code",
   "execution_count": 2,
   "metadata": {},
   "outputs": [],
   "source": [
    "# def try_connection():\n",
    "try: \n",
    "    requests.get(\"https://www.google.com/\")\n",
    "except Exception as e:\n",
    "    print(e)\n",
    "    input()"
   ]
  },
  {
   "cell_type": "code",
   "execution_count": 3,
   "metadata": {},
   "outputs": [],
   "source": [
    "def load_image_form_url(url, filename=None):\n",
    "    page = requests.get(url)\n",
    "    img = Image.open(BytesIO(page.content))\n",
    "    filename = \"downloads/\" + filename\n",
    "    if filename:\n",
    "        img.save(filename)\n",
    "    return filename"
   ]
  },
  {
   "cell_type": "code",
   "execution_count": 4,
   "metadata": {},
   "outputs": [
    {
     "name": "stderr",
     "output_type": "stream",
     "text": [
      "Podadres ý nebo soubor downloads ji§ existuje.\n"
     ]
    }
   ],
   "source": [
    "%mkdir downloads"
   ]
  },
  {
   "cell_type": "code",
   "execution_count": 5,
   "metadata": {},
   "outputs": [],
   "source": [
    "vyuzitelnost_png = load_image_form_url(\"http://flymet.meteopress.cz/vyuzit/0task.png\", \"vyuzitelnost.png\")"
   ]
  },
  {
   "cell_type": "code",
   "execution_count": 6,
   "metadata": {},
   "outputs": [],
   "source": [
    "kumuly_png = load_image_form_url(\"http://flymet.meteopress.cz/cr/cukh12.png\", \"kumuly.png\")"
   ]
  },
  {
   "cell_type": "code",
   "execution_count": 7,
   "metadata": {},
   "outputs": [],
   "source": [
    "synoptika_gif = load_image_form_url(\"http://portal.chmi.cz/files/portal/docs/meteo/om/evropa/analyza.gif\", \"synoptika.gif\")"
   ]
  },
  {
   "cell_type": "code",
   "execution_count": 8,
   "metadata": {},
   "outputs": [],
   "source": [
    "synoptika_pred_gif = load_image_form_url(\"http://portal.chmi.cz/files/portal/docs/meteo/om/evropa/preba/preba.gif\",\n",
    "                                     \"synoptika_pred.gif\")"
   ]
  },
  {
   "cell_type": "code",
   "execution_count": 9,
   "metadata": {},
   "outputs": [],
   "source": [
    "meteogram_png = load_image_form_url(\"http://flymet.meteopress.cz/meteogram/PODHORANY.png\", \"meteogram.png\");"
   ]
  },
  {
   "cell_type": "code",
   "execution_count": 10,
   "metadata": {},
   "outputs": [],
   "source": [
    "def load_images_form_urls(url, image_names):\n",
    "    image_names_data = []\n",
    "    for image_name in image_names:\n",
    "        name_data = load_image_form_url(f\"http://flymet.meteopress.cz/cr/{image_name}\", image_name)\n",
    "        image_names_data.append(name_data)\n",
    "    \n",
    "    return image_names_data"
   ]
  },
  {
   "cell_type": "code",
   "execution_count": 11,
   "metadata": {},
   "outputs": [],
   "source": [
    "# deficit konvektivni teploty\n",
    "dkt_pngs = load_images_form_urls(\"http://flymet.meteopress.cz/cr/\", [\"cudf10.png\", \"cudf13.png\", \"cudf16.png\"])"
   ]
  },
  {
   "cell_type": "code",
   "execution_count": 12,
   "metadata": {},
   "outputs": [],
   "source": [
    "# vyskyt kumulu a vyska\n",
    "cukh_pngs = load_images_form_urls(\"http://flymet.meteopress.cz/cr/\", [\"cukh10.png\", \"cukh13.png\", \"cukh16.png\"])"
   ]
  },
  {
   "cell_type": "code",
   "execution_count": 13,
   "metadata": {},
   "outputs": [],
   "source": [
    "# vyskyt kumulu a vyska\n",
    "curyb_pngs = load_images_form_urls(\"http://flymet.meteopress.cz/cr/\", [\"curyb10.png\", \"curyb13.png\", \"curyb16.png\"])"
   ]
  },
  {
   "cell_type": "code",
   "execution_count": 14,
   "metadata": {},
   "outputs": [
    {
     "name": "stdout",
     "output_type": "stream",
     "text": [
      "METAR LKCV 310800Z VRB02KT CAVOK 24/18 Q1019 NOSIG RMK BLU BLU\n",
      "wind direction VRB\n"
     ]
    },
    {
     "data": {
      "text/plain": [
       "'METAR LKCV 310800Z VRB02KT CAVOK 24/18 Q1019 NOSIG RMK BLU BLU'"
      ]
     },
     "execution_count": 14,
     "metadata": {},
     "output_type": "execute_result"
    }
   ],
   "source": [
    "page = requests.get(\"http://meteo.rlp.cz/LKCV_meteo.htm\")\n",
    "metar_page = page.content\n",
    "for line in metar_page.splitlines():\n",
    "    line = str(line)\n",
    "    if \"METAR LKCV\" in line:\n",
    "        metar = re.findall(r'(METAR LKCV.*)=', line)[0]\n",
    "        break\n",
    "    if \"SPECI COR LKCV\" in line:\n",
    "        metar = re.findall(r'(SPECI COR LKCV.*)=', line)[0]\n",
    "        break\n",
    "else:\n",
    "    metar = \"failed to retrieve METAR from http://meteo.rlp.cz/LKCV_meteo.htm\"\n",
    "\n",
    "print(metar)\n",
    "\n",
    "try:\n",
    "    wind_idx = metar.index(\"KT\") - 5\n",
    "    try:\n",
    "        wind_dir = int(metar[wind_idx:wind_idx+3])\n",
    "        print(\"wind direction: \" + str(wind_dir))\n",
    "    except ValueError:\n",
    "        wind_dir = 0\n",
    "        print(\"wind direction VRB\")\n",
    "except:\n",
    "    wind_dir=0\n",
    "\n",
    "if len(metar) > 70:\n",
    "    delim = metar.find(\" \", 60)\n",
    "    metar = metar[:delim] + \"\\n\" + metar[delim:]\n",
    "metar"
   ]
  },
  {
   "cell_type": "code",
   "execution_count": 15,
   "metadata": {},
   "outputs": [],
   "source": [
    "prostejov = \"http://portal.chmi.cz/files/portal/docs/meteo/oa/data_sondaz_prostejov//dsd500.png\"\n",
    "prostejov_link = \"http://portal.chmi.cz/aktualni-situace/aktualni-stav-pocasi/\" \\\n",
    "                 \"ceska-republika/sondazni-mereni/sondazni-mereni-prostejov\"\n",
    "praha = \"http://portal.chmi.cz/files/portal/docs/meteo/oa/data_sondaz//dsd500.png\"\n",
    "praha_link = \"http://portal.chmi.cz/aktualni-situace/aktualni-stav-pocasi/\" \\\n",
    "             \"ceska-republika/sondazni-mereni/sondazni-mereni\" \n",
    "\n",
    "from_east = 10 < wind_dir < 190\n",
    "\n",
    "vystup_url = prostejov if from_east else praha\n",
    "link = prostejov_link if from_east else praha_link\n",
    "vystup_url_2 = praha if from_east else prostejov\n",
    "link_2 = praha_link if from_east else prostejov_link\n",
    "\n",
    "vystup_png = load_image_form_url(vystup_url, \"vystup.png\")\n",
    "vystup_png_2 = load_image_form_url(vystup_url_2, \"vystup2.png\")"
   ]
  },
  {
   "cell_type": "code",
   "execution_count": 16,
   "metadata": {},
   "outputs": [],
   "source": [
    "driver = webdriver.Chrome()\n",
    "\n",
    "driver.get('http://portal.chmi.cz/predpovedi/predpovedi-pocasi/letecke/sportovni-letani')\n",
    "\n",
    "sportovni = driver.find_element_by_xpath('//*[@id=\"loadedcontent\"]/pre')\n",
    "\n",
    "sportovni_predpoved = sportovni.text\n",
    "\n",
    "# driver.close()"
   ]
  },
  {
   "cell_type": "code",
   "execution_count": 17,
   "metadata": {},
   "outputs": [],
   "source": [
    "try:\n",
    "#     driver = webdriver.Chrome()\n",
    "    meteogram_lkpn_url = \"http://portal.chmi.cz/files/portal/docs/meteo/ov/aladin/results/public/meteogramy\" \\\n",
    "    \"/meteogram_page_portal/m.html#Podho%C5%99any%20(LKPN)\"\n",
    "\n",
    "    driver.get(meteogram_lkpn_url)\n",
    "    driver.implicitly_wait(4)\n",
    "\n",
    "    meteogram_img_url = driver.find_element_by_xpath('//*[@id=\"met-img\"]').find_element_by_tag_name(\"img\").get_attribute(\"src\")\n",
    "\n",
    "    meteogram_img = load_image_form_url(meteogram_img_url, \"meteogram_lkpn.png\")\n",
    "\n",
    "    driver.close()\n",
    "except:\n",
    "    meteogram_img = 'downloads/meteogram_lkpn.png'"
   ]
  },
  {
   "cell_type": "code",
   "execution_count": 18,
   "metadata": {},
   "outputs": [],
   "source": [
    "sportovni_predpoved = sportovni_predpoved.split(\"POZNAMKA - Odkazy\")[0]"
   ]
  },
  {
   "cell_type": "code",
   "execution_count": 19,
   "metadata": {
    "scrolled": false
   },
   "outputs": [
    {
     "name": "stdout",
     "output_type": "stream",
     "text": [
      "<font face=\"courier\" size=\"12\"><p><B>DEN A CAS VYDANI (UTC):</B> 310600</p><p><B>PREDPOVED PRO SPORTOVNI LETANI NA DEN:</B> 31.08.2019</p><p>(VYSKOVE UDAJE JSOU UVEDENY VE STOVKACH FT MSL)</p><p><B>SITUACE:</B> PO ZADNIM OKRAJI TLAKOVE VYSE NAD POBALTIM, KTERA BUDE</p><p>   POZVOLNA POSTUPOVAT DALE K SEVEROVYCHODU, BUDE NAD NASE UZEMI</p><p>   ZESILOVAT PRILIV TEPLEHO VZDUCHU OD JIHU.</p><p><B>VYVOJ KONVEKCNI OBLACNOSTI:</B> TEPLOTNI ZVRSTVENI BUDE LABILNI,</p><p>   V POLEDNICH A ODPOLEDNICH HODINACH S TVORBOU CU, ZEJMENA</p><p>   NA SEVEROVYCHODE A VYCHODE UZEMI OJEDINELE I TCU CB.</p><p>   MISTY BEZOBLACNA TERMICKA KONVEKCE DO 065.</p><p><B>TEPLOTA KONVEKCE (DEG C):</B> 29-31</p><p><B>MAXIMALNI TEPLOTA (DEG C):</B> 28-32</p><p><B>KONVEKCNI KONDENZACNI HLADINA:</B> 055-065</p><p><B>HORNI HLADINA KONVEKCE:</B> OJEDINELE 380</p><p><B>VYVOJ POCASI:</B> JASNO AZ POLOJASNO, V POLEDNICH A ODPOLEDNICH HODINACH</p><p>   ZEJMENA NA SEVEROVYCHODE A VYCHODE UZEMI /V OKOLI KOPCU/ OJEDINELE</p><p>   S PREHANKAMI. ZPOCATKU OJEDINELE KOURMA A NA SEVEROVYCHODE-VYCHODE</p><p>   UZEMI NIZKA OBLACNOST.</p><p><B>ZAKLADNY NIZKE OBLACNOSTI:</B> ZPOCATKU OJEDINELE NA SEVEROVYCHODE-</p><p>   VYCHODE UZEMI BKN/OVC ST 013-020</p><p><B>PRIZEMNI VITR (KT):</B> VYCHODNI AZ JIHOVYCHODNI 4-10, MISTY VRB DO 4</p><p><B>DOHLEDNOST:</B> NAD 10KM, ZPOCATKU OJEDINELE 3-5KM</p><p><B>TURBULENCE:</B> NIL</p><p><B>VYSKA IZOTERMY 0 DEG C:</B> 125-135</p><p>PREDPOVED VETRU VE VYSCE (KT)</p><p>HLADINA        CECHY    MORAVA A SLEZSKO</p><p><B>020:</B>           130/10   150/08</p><p><B>050:</B>           140/12   180/10</p><p><B>100:</B>           190/14   190/10</p><p>VYHLIDKA NA ZITREK</p><p><B>SITUACE:</B> PRES NEMECKO BUDE POSTUPOVAT ZVLNENA STUDENA FRONTA, KTERA</p><p>   ZACNE ODPOLEDNE OD ZAPADU PRECHAZET PRES NASE UZEMI. PRED NI BUDE</p><p>   VRCHOLIT PRILIV TEPLEHO VZDUCHU NAD NASE UZEMI.</p><p><B>VYVOJ KONVEKCNI OBLACNOSTI:</B> TEPLOTNI ZVRSTVENI BUDE LABILNI,</p><p>   OCEKAVAME TVORBU KONVEKCNI OBLACNOSTI AZ DO STADIA CB.</p><p>   TK 26-30, KKH 050-070, HHK 390-410. MISTY BEZOBLACNA TERMICKA</p><p>   KONVEKCE DO 070.</p><p><B>POCASI:</B> JASNO AZ POLOJASNO, POSTUPNE OD ZAPADU PRIBYVANI OBLACNOSTI</p><p>   NA OBLACNO, POSTUPNE AZ ZATAZENO A OD ZAPADU CETNE PREHANKY, MISTY</p><p>   BOURKY, OJEDINELE AZ SILNE INTENZITY S KROUPAMI.</p><p><B>PRIZEMNI VITR (KT):</B> JIZNI AZ JIHOZAPADNI, OD ZAPADU ZAPADNI 4-12,</p><p>   MISTY VRB DO 4. V BOURKACH VITR ZESILI.</p><p></font>\n"
     ]
    }
   ],
   "source": [
    "def add_bold(line):\n",
    "    if \":\" not in line:\n",
    "        return line\n",
    "    split = line.split(\":\", maxsplit=1)\n",
    "    return f\"<B>{split[0]}:</B>{split[1]}\"\n",
    "\n",
    "fontsize = 12\n",
    "\n",
    "sportovni_predpoved_html = \"\\n\".join(add_bold(line) for line in sportovni_predpoved.splitlines())\n",
    "sportovni_predpoved_html = markdown2.markdown(sportovni_predpoved_html).replace(\"\\n\", \"</p><p>\")\n",
    "sportovni_predpoved_html = f'<font face=\"courier\" size=\"{fontsize}\">' + sportovni_predpoved_html + '</font>'\n",
    "\n",
    "sportovni_predpoved_html = sportovni_predpoved_html.replace(r\"<p><p>\", r\"<p>\")\n",
    "sportovni_predpoved_html = sportovni_predpoved_html.replace(r\"</p></p>\", r\"</p>\")\n",
    "sportovni_predpoved_html = sportovni_predpoved_html.replace(r\"</p><p></p><p>\", r\"</p><p>\")\n",
    "sportovni_predpoved_html = sportovni_predpoved_html.replace(r\"<code>\", r\"\")\n",
    "sportovni_predpoved_html = sportovni_predpoved_html.replace(r\"</code>\", r\"\")\n",
    "sportovni_predpoved_html = sportovni_predpoved_html.replace(r\"<pre>\", r\"\")\n",
    "sportovni_predpoved_html = sportovni_predpoved_html.replace(r\"</pre>\", r\"\")\n",
    "\n",
    "print(sportovni_predpoved_html)"
   ]
  },
  {
   "cell_type": "code",
   "execution_count": 20,
   "metadata": {},
   "outputs": [
    {
     "name": "stdout",
     "output_type": "stream",
     "text": [
      "2019-08-31 08:33\n"
     ]
    }
   ],
   "source": [
    "time = str(datetime.datetime.utcnow())[0:16]\n",
    "hours = time[:13].replace(\" \", \"-\")\n",
    "\n",
    "print(time)"
   ]
  },
  {
   "cell_type": "code",
   "execution_count": 21,
   "metadata": {},
   "outputs": [],
   "source": [
    "from fpdf import html\n",
    "class PocasiPdf(FPDF, html.HTMLMixin):\n",
    "    def header(self):\n",
    "        self.set_font('Courier', '', fontsize)\n",
    "        self.cell(192, txt=f\"vygenerovalo GLIDEINFO {time} UTC\", align='R')\n",
    "        \n",
    "    def footer(self):\n",
    "        self.set_font('Courier', '', fontsize)\n",
    "        self.set_xy(10, 290)\n",
    "        self.cell(192, txt=f\"Martin Stránský stranma5@gmail.com\", align='R')"
   ]
  },
  {
   "cell_type": "code",
   "execution_count": 22,
   "metadata": {},
   "outputs": [],
   "source": [
    "pdf = PocasiPdf()\n",
    "\n",
    "pdf.add_page()\n",
    "pdf.set_xy(10, 18)\n",
    "pdf.set_font('Courier', '', 12)\n",
    "pdf.multi_cell(w=192, h=4, txt=metar)\n",
    "pdf.set_xy(10, 30)\n",
    "pdf.set_font('Courier', '', 16)\n",
    "pdf.cell(w=192, txt=\"CHMI SPORTOVNI PREDPOVED (link):\", \n",
    "         link=\"http://portal.chmi.cz/predpovedi/predpovedi-pocasi/letecke/sportovni-letani\")\n",
    "pdf.set_xy(10, 32)\n",
    "pdf.write_html(sportovni_predpoved_html)\n",
    "\n",
    "pdf.add_page()\n",
    "pdf.image(vystup_png, x=10, y=14, h=140, \n",
    "          link=link)\n",
    "pdf.image(vystup_png_2, x=10, y=152, h=140, \n",
    "          link=link_2)\n",
    "\n",
    "pdf.add_page()\n",
    "pdf.image(meteogram_img, x=10, y=13, h=280, link=meteogram_lkpn_url)\n",
    "\n",
    "pdf.add_page()\n",
    "pdf.image(meteogram_png, x=10, y=13, h=140, link=\"http://flymet.meteopress.cz/meteogram/\")\n",
    "for i, dkt_png in enumerate(dkt_pngs):\n",
    "    pdf.image(dkt_png, x=10+i*60, y=150, h=45, link=\"http://flymet.meteopress.cz/cr/?gmetyp=cudf&gmepic=16\")\n",
    "for i, cukh_png in enumerate(cukh_pngs):\n",
    "    pdf.image(cukh_png, x=10+i*60, y=195, h=45, link=\"http://flymet.meteopress.cz/cr/?gmetyp=cukh&gmepic=16\")\n",
    "for i, curyb_png in enumerate(curyb_pngs):\n",
    "    pdf.image(curyb_png, x=10+i*60, y=240, h=45, link=\"http://flymet.meteopress.cz/cr/?gmetyp=curyb&gmepic=16\")\n",
    "\n",
    "pdf.add_page()\n",
    "pdf.image(synoptika_gif, x=10, y=13, w=192,\n",
    "          link=\"http://portal.chmi.cz/aktualni-situace/aktualni-stav-pocasi/evropa/synopticka-situace\")\n",
    "pdf.image(synoptika_pred_gif, x=10, y=152, w=192,\n",
    "          link=\"http://portal.chmi.cz/predpovedi/predpovedi-pocasi/evropa/synopticka-situace\")\n",
    "\n",
    "# pdf.image(kumuly_png, x=10, y=10, h=140, link=\"http://flymet.meteopress.cz/cr/?gmetyp=cukh&gmepic=12\")\n",
    "# pdf.image(vyuzitelnost_png, x=10, y=150, h=140, link=\"http://flymet.meteopress.cz/vyu1.php\")\n",
    "\n",
    "pocasi_pdf = pathlib.Path(f\"pocasi_shrnuti_{hours}.pdf\")\n",
    "\n",
    "try:\n",
    "    pdf.output(pocasi_pdf, \"F\")\n",
    "    subprocess.run(['start', str(pocasi_pdf)], shell=True)\n",
    "except:\n",
    "    print(\"Zavři předchozí přehled nebo ho smaž. Restartuj počítač, pokud to nepomůže.\")\n",
    "    input()"
   ]
  },
  {
   "cell_type": "code",
   "execution_count": null,
   "metadata": {},
   "outputs": [],
   "source": []
  }
 ],
 "metadata": {
  "kernelspec": {
   "display_name": "Python 3",
   "language": "python",
   "name": "python3"
  },
  "language_info": {
   "codemirror_mode": {
    "name": "ipython",
    "version": 3
   },
   "file_extension": ".py",
   "mimetype": "text/x-python",
   "name": "python",
   "nbconvert_exporter": "python",
   "pygments_lexer": "ipython3",
   "version": "3.7.3"
  }
 },
 "nbformat": 4,
 "nbformat_minor": 2
}
