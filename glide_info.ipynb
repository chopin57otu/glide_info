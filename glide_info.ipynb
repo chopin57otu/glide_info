{
 "cells": [
  {
   "cell_type": "code",
   "execution_count": 1,
   "metadata": {},
   "outputs": [],
   "source": [
    "import pathlib\n",
    "\n",
    "import requests\n",
    "from bs4 import BeautifulSoup\n",
    "from PIL import Image\n",
    "from io import BytesIO\n",
    "\n",
    "from fpdf import FPDF\n",
    "\n",
    "import subprocess\n",
    "\n",
    "import re\n",
    "\n",
    "import datetime\n",
    "import markdown2\n",
    "\n",
    "import time\n",
    "\n",
    "from selenium import webdriver"
   ]
  },
  {
   "cell_type": "code",
   "execution_count": 2,
   "metadata": {},
   "outputs": [],
   "source": [
    "# def try_connection():\n",
    "try: \n",
    "    requests.get(\"https://www.google.com/\")\n",
    "except Exception as e:\n",
    "    print(e)\n",
    "    input()"
   ]
  },
  {
   "cell_type": "code",
   "execution_count": 3,
   "metadata": {},
   "outputs": [],
   "source": [
    "def load_image_form_url(url, filename=None):\n",
    "    page = requests.get(url)\n",
    "    img = Image.open(BytesIO(page.content))\n",
    "    filename = \"downloads/\" + filename\n",
    "    if filename:\n",
    "        img.save(filename)\n",
    "    return filename"
   ]
  },
  {
   "cell_type": "code",
   "execution_count": 4,
   "metadata": {},
   "outputs": [
    {
     "name": "stderr",
     "output_type": "stream",
     "text": [
      "A subdirectory or file downloads already exists.\n"
     ]
    }
   ],
   "source": [
    "%mkdir downloads"
   ]
  },
  {
   "cell_type": "code",
   "execution_count": 5,
   "metadata": {},
   "outputs": [],
   "source": [
    "vyuzitelnost_png = load_image_form_url(\"http://flymet.meteopress.cz/vyuzit/0task.png\", \"vyuzitelnost.png\")"
   ]
  },
  {
   "cell_type": "code",
   "execution_count": 6,
   "metadata": {},
   "outputs": [],
   "source": [
    "kumuly_png = load_image_form_url(\"http://flymet.meteopress.cz/cr/cukh12.png\", \"kumuly.png\")"
   ]
  },
  {
   "cell_type": "code",
   "execution_count": 7,
   "metadata": {},
   "outputs": [],
   "source": [
    "synoptika_gif = load_image_form_url(\"http://portal.chmi.cz/files/portal/docs/meteo/om/evropa/analyza.gif\", \"synoptika.gif\")"
   ]
  },
  {
   "cell_type": "code",
   "execution_count": 8,
   "metadata": {},
   "outputs": [],
   "source": [
    "synoptika_pred_gif = load_image_form_url(\"http://portal.chmi.cz/files/portal/docs/meteo/om/evropa/preba/preba.gif\",\n",
    "                                     \"synoptika_pred.gif\")"
   ]
  },
  {
   "cell_type": "code",
   "execution_count": 9,
   "metadata": {},
   "outputs": [],
   "source": [
    "meteogram_png = load_image_form_url(\"http://flymet.meteopress.cz/meteogram/PODHORANY.png\", \"meteogram.png\");"
   ]
  },
  {
   "cell_type": "code",
   "execution_count": 10,
   "metadata": {},
   "outputs": [],
   "source": [
    "def load_images_form_urls(url, image_names):\n",
    "    image_names_data = []\n",
    "    for image_name in image_names:\n",
    "        name_data = load_image_form_url(f\"http://flymet.meteopress.cz/cr/{image_name}\", image_name)\n",
    "        image_names_data.append(name_data)\n",
    "    \n",
    "    return image_names_data"
   ]
  },
  {
   "cell_type": "code",
   "execution_count": 11,
   "metadata": {},
   "outputs": [],
   "source": [
    "# deficit konvektivni teploty\n",
    "dkt_pngs = load_images_form_urls(\"http://flymet.meteopress.cz/cr/\", [\"cudf10.png\", \"cudf13.png\", \"cudf16.png\"])"
   ]
  },
  {
   "cell_type": "code",
   "execution_count": 12,
   "metadata": {},
   "outputs": [],
   "source": [
    "# vyskyt kumulu a vyska\n",
    "cukh_pngs = load_images_form_urls(\"http://flymet.meteopress.cz/cr/\", [\"cukh10.png\", \"cukh13.png\", \"cukh16.png\"])"
   ]
  },
  {
   "cell_type": "code",
   "execution_count": 13,
   "metadata": {},
   "outputs": [],
   "source": [
    "# vyskyt kumulu a vyska\n",
    "curyb_pngs = load_images_form_urls(\"http://flymet.meteopress.cz/cr/\", [\"curyb10.png\", \"curyb13.png\", \"curyb16.png\"])"
   ]
  },
  {
   "cell_type": "code",
   "execution_count": 14,
   "metadata": {},
   "outputs": [
    {
     "name": "stdout",
     "output_type": "stream",
     "text": [
      "METAR LKCV 240700Z 26006KT 220V300 9999 FEW018 SCT110 13/08 Q1026 NOSIG RMK BLU BLU\n",
      "wind direction: 260\n"
     ]
    },
    {
     "data": {
      "text/plain": [
       "'METAR LKCV 240700Z 26006KT 220V300 9999 FEW018 SCT110 13/08 Q1026\\n NOSIG RMK BLU BLU'"
      ]
     },
     "execution_count": 14,
     "metadata": {},
     "output_type": "execute_result"
    }
   ],
   "source": [
    "page = requests.get(\"http://meteo.rlp.cz/LKCV_meteo.htm\")\n",
    "metar_page = page.content\n",
    "for line in metar_page.splitlines():\n",
    "    line = str(line)\n",
    "    if \"METAR LKCV\" in line:\n",
    "        metar = re.findall(r'(METAR LKCV.*)=', line)[0]\n",
    "        break\n",
    "    if \"SPECI COR LKCV\" in line:\n",
    "        metar = re.findall(r'(SPECI COR LKCV.*)=', line)[0]\n",
    "        break\n",
    "else:\n",
    "    metar = \"failed to retrieve METAR from http://meteo.rlp.cz/LKCV_meteo.htm\"\n",
    "\n",
    "print(metar)\n",
    "\n",
    "try:\n",
    "    wind_idx = metar.index(\"KT\") - 5\n",
    "    try:\n",
    "        wind_dir = int(metar[wind_idx:wind_idx+3])\n",
    "        print(\"wind direction: \" + str(wind_dir))\n",
    "    except ValueError:\n",
    "        wind_dir = 0\n",
    "        print(\"wind direction VRB\")\n",
    "except:\n",
    "    wind_dir=0\n",
    "\n",
    "if len(metar) > 70:\n",
    "    delim = metar.find(\" \", 60)\n",
    "    metar = metar[:delim] + \"\\n\" + metar[delim:]\n",
    "metar"
   ]
  },
  {
   "cell_type": "code",
   "execution_count": 15,
   "metadata": {},
   "outputs": [],
   "source": [
    "prostejov = \"http://portal.chmi.cz/files/portal/docs/meteo/oa/data_sondaz_prostejov//dsd500.png\"\n",
    "prostejov_link = \"http://portal.chmi.cz/aktualni-situace/aktualni-stav-pocasi/\" \\\n",
    "                 \"ceska-republika/sondazni-mereni/sondazni-mereni-prostejov\"\n",
    "praha = \"http://portal.chmi.cz/files/portal/docs/meteo/oa/data_sondaz//dsd500.png\"\n",
    "praha_link = \"http://portal.chmi.cz/aktualni-situace/aktualni-stav-pocasi/\" \\\n",
    "             \"ceska-republika/sondazni-mereni/sondazni-mereni\" \n",
    "\n",
    "from_east = 10 < wind_dir < 190\n",
    "\n",
    "vystup_url = prostejov if from_east else praha\n",
    "link = prostejov_link if from_east else praha_link\n",
    "vystup_url_2 = praha if from_east else prostejov\n",
    "link_2 = praha_link if from_east else prostejov_link\n",
    "\n",
    "vystup_png = load_image_form_url(vystup_url, \"vystup.png\")\n",
    "vystup_png_2 = load_image_form_url(vystup_url_2, \"vystup2.png\")"
   ]
  },
  {
   "cell_type": "code",
   "execution_count": 17,
   "metadata": {},
   "outputs": [
    {
     "ename": "SessionNotCreatedException",
     "evalue": "Message: session not created: This version of ChromeDriver only supports Chrome version 77\n",
     "output_type": "error",
     "traceback": [
      "\u001b[1;31m---------------------------------------------------------------------------\u001b[0m",
      "\u001b[1;31mSessionNotCreatedException\u001b[0m                Traceback (most recent call last)",
      "\u001b[1;32m<ipython-input-17-ec48251f04f8>\u001b[0m in \u001b[0;36m<module>\u001b[1;34m\u001b[0m\n\u001b[1;32m----> 1\u001b[1;33m \u001b[0mdriver\u001b[0m \u001b[1;33m=\u001b[0m \u001b[0mwebdriver\u001b[0m\u001b[1;33m.\u001b[0m\u001b[0mChrome\u001b[0m\u001b[1;33m(\u001b[0m\u001b[1;33m)\u001b[0m\u001b[1;33m\u001b[0m\u001b[1;33m\u001b[0m\u001b[0m\n\u001b[0m",
      "\u001b[1;32mC:\\Users\\Default\\Anaconda3\\lib\\site-packages\\selenium\\webdriver\\chrome\\webdriver.py\u001b[0m in \u001b[0;36m__init__\u001b[1;34m(self, executable_path, port, options, service_args, desired_capabilities, service_log_path, chrome_options, keep_alive)\u001b[0m\n\u001b[0;32m     79\u001b[0m                     \u001b[0mremote_server_addr\u001b[0m\u001b[1;33m=\u001b[0m\u001b[0mself\u001b[0m\u001b[1;33m.\u001b[0m\u001b[0mservice\u001b[0m\u001b[1;33m.\u001b[0m\u001b[0mservice_url\u001b[0m\u001b[1;33m,\u001b[0m\u001b[1;33m\u001b[0m\u001b[1;33m\u001b[0m\u001b[0m\n\u001b[0;32m     80\u001b[0m                     keep_alive=keep_alive),\n\u001b[1;32m---> 81\u001b[1;33m                 desired_capabilities=desired_capabilities)\n\u001b[0m\u001b[0;32m     82\u001b[0m         \u001b[1;32mexcept\u001b[0m \u001b[0mException\u001b[0m\u001b[1;33m:\u001b[0m\u001b[1;33m\u001b[0m\u001b[1;33m\u001b[0m\u001b[0m\n\u001b[0;32m     83\u001b[0m             \u001b[0mself\u001b[0m\u001b[1;33m.\u001b[0m\u001b[0mquit\u001b[0m\u001b[1;33m(\u001b[0m\u001b[1;33m)\u001b[0m\u001b[1;33m\u001b[0m\u001b[1;33m\u001b[0m\u001b[0m\n",
      "\u001b[1;32mC:\\Users\\Default\\Anaconda3\\lib\\site-packages\\selenium\\webdriver\\remote\\webdriver.py\u001b[0m in \u001b[0;36m__init__\u001b[1;34m(self, command_executor, desired_capabilities, browser_profile, proxy, keep_alive, file_detector, options)\u001b[0m\n\u001b[0;32m    155\u001b[0m             warnings.warn(\"Please use FirefoxOptions to set browser profile\",\n\u001b[0;32m    156\u001b[0m                           DeprecationWarning, stacklevel=2)\n\u001b[1;32m--> 157\u001b[1;33m         \u001b[0mself\u001b[0m\u001b[1;33m.\u001b[0m\u001b[0mstart_session\u001b[0m\u001b[1;33m(\u001b[0m\u001b[0mcapabilities\u001b[0m\u001b[1;33m,\u001b[0m \u001b[0mbrowser_profile\u001b[0m\u001b[1;33m)\u001b[0m\u001b[1;33m\u001b[0m\u001b[1;33m\u001b[0m\u001b[0m\n\u001b[0m\u001b[0;32m    158\u001b[0m         \u001b[0mself\u001b[0m\u001b[1;33m.\u001b[0m\u001b[0m_switch_to\u001b[0m \u001b[1;33m=\u001b[0m \u001b[0mSwitchTo\u001b[0m\u001b[1;33m(\u001b[0m\u001b[0mself\u001b[0m\u001b[1;33m)\u001b[0m\u001b[1;33m\u001b[0m\u001b[1;33m\u001b[0m\u001b[0m\n\u001b[0;32m    159\u001b[0m         \u001b[0mself\u001b[0m\u001b[1;33m.\u001b[0m\u001b[0m_mobile\u001b[0m \u001b[1;33m=\u001b[0m \u001b[0mMobile\u001b[0m\u001b[1;33m(\u001b[0m\u001b[0mself\u001b[0m\u001b[1;33m)\u001b[0m\u001b[1;33m\u001b[0m\u001b[1;33m\u001b[0m\u001b[0m\n",
      "\u001b[1;32mC:\\Users\\Default\\Anaconda3\\lib\\site-packages\\selenium\\webdriver\\remote\\webdriver.py\u001b[0m in \u001b[0;36mstart_session\u001b[1;34m(self, capabilities, browser_profile)\u001b[0m\n\u001b[0;32m    250\u001b[0m         parameters = {\"capabilities\": w3c_caps,\n\u001b[0;32m    251\u001b[0m                       \"desiredCapabilities\": capabilities}\n\u001b[1;32m--> 252\u001b[1;33m         \u001b[0mresponse\u001b[0m \u001b[1;33m=\u001b[0m \u001b[0mself\u001b[0m\u001b[1;33m.\u001b[0m\u001b[0mexecute\u001b[0m\u001b[1;33m(\u001b[0m\u001b[0mCommand\u001b[0m\u001b[1;33m.\u001b[0m\u001b[0mNEW_SESSION\u001b[0m\u001b[1;33m,\u001b[0m \u001b[0mparameters\u001b[0m\u001b[1;33m)\u001b[0m\u001b[1;33m\u001b[0m\u001b[1;33m\u001b[0m\u001b[0m\n\u001b[0m\u001b[0;32m    253\u001b[0m         \u001b[1;32mif\u001b[0m \u001b[1;34m'sessionId'\u001b[0m \u001b[1;32mnot\u001b[0m \u001b[1;32min\u001b[0m \u001b[0mresponse\u001b[0m\u001b[1;33m:\u001b[0m\u001b[1;33m\u001b[0m\u001b[1;33m\u001b[0m\u001b[0m\n\u001b[0;32m    254\u001b[0m             \u001b[0mresponse\u001b[0m \u001b[1;33m=\u001b[0m \u001b[0mresponse\u001b[0m\u001b[1;33m[\u001b[0m\u001b[1;34m'value'\u001b[0m\u001b[1;33m]\u001b[0m\u001b[1;33m\u001b[0m\u001b[1;33m\u001b[0m\u001b[0m\n",
      "\u001b[1;32mC:\\Users\\Default\\Anaconda3\\lib\\site-packages\\selenium\\webdriver\\remote\\webdriver.py\u001b[0m in \u001b[0;36mexecute\u001b[1;34m(self, driver_command, params)\u001b[0m\n\u001b[0;32m    319\u001b[0m         \u001b[0mresponse\u001b[0m \u001b[1;33m=\u001b[0m \u001b[0mself\u001b[0m\u001b[1;33m.\u001b[0m\u001b[0mcommand_executor\u001b[0m\u001b[1;33m.\u001b[0m\u001b[0mexecute\u001b[0m\u001b[1;33m(\u001b[0m\u001b[0mdriver_command\u001b[0m\u001b[1;33m,\u001b[0m \u001b[0mparams\u001b[0m\u001b[1;33m)\u001b[0m\u001b[1;33m\u001b[0m\u001b[1;33m\u001b[0m\u001b[0m\n\u001b[0;32m    320\u001b[0m         \u001b[1;32mif\u001b[0m \u001b[0mresponse\u001b[0m\u001b[1;33m:\u001b[0m\u001b[1;33m\u001b[0m\u001b[1;33m\u001b[0m\u001b[0m\n\u001b[1;32m--> 321\u001b[1;33m             \u001b[0mself\u001b[0m\u001b[1;33m.\u001b[0m\u001b[0merror_handler\u001b[0m\u001b[1;33m.\u001b[0m\u001b[0mcheck_response\u001b[0m\u001b[1;33m(\u001b[0m\u001b[0mresponse\u001b[0m\u001b[1;33m)\u001b[0m\u001b[1;33m\u001b[0m\u001b[1;33m\u001b[0m\u001b[0m\n\u001b[0m\u001b[0;32m    322\u001b[0m             response['value'] = self._unwrap_value(\n\u001b[0;32m    323\u001b[0m                 response.get('value', None))\n",
      "\u001b[1;32mC:\\Users\\Default\\Anaconda3\\lib\\site-packages\\selenium\\webdriver\\remote\\errorhandler.py\u001b[0m in \u001b[0;36mcheck_response\u001b[1;34m(self, response)\u001b[0m\n\u001b[0;32m    240\u001b[0m                 \u001b[0malert_text\u001b[0m \u001b[1;33m=\u001b[0m \u001b[0mvalue\u001b[0m\u001b[1;33m[\u001b[0m\u001b[1;34m'alert'\u001b[0m\u001b[1;33m]\u001b[0m\u001b[1;33m.\u001b[0m\u001b[0mget\u001b[0m\u001b[1;33m(\u001b[0m\u001b[1;34m'text'\u001b[0m\u001b[1;33m)\u001b[0m\u001b[1;33m\u001b[0m\u001b[1;33m\u001b[0m\u001b[0m\n\u001b[0;32m    241\u001b[0m             \u001b[1;32mraise\u001b[0m \u001b[0mexception_class\u001b[0m\u001b[1;33m(\u001b[0m\u001b[0mmessage\u001b[0m\u001b[1;33m,\u001b[0m \u001b[0mscreen\u001b[0m\u001b[1;33m,\u001b[0m \u001b[0mstacktrace\u001b[0m\u001b[1;33m,\u001b[0m \u001b[0malert_text\u001b[0m\u001b[1;33m)\u001b[0m\u001b[1;33m\u001b[0m\u001b[1;33m\u001b[0m\u001b[0m\n\u001b[1;32m--> 242\u001b[1;33m         \u001b[1;32mraise\u001b[0m \u001b[0mexception_class\u001b[0m\u001b[1;33m(\u001b[0m\u001b[0mmessage\u001b[0m\u001b[1;33m,\u001b[0m \u001b[0mscreen\u001b[0m\u001b[1;33m,\u001b[0m \u001b[0mstacktrace\u001b[0m\u001b[1;33m)\u001b[0m\u001b[1;33m\u001b[0m\u001b[1;33m\u001b[0m\u001b[0m\n\u001b[0m\u001b[0;32m    243\u001b[0m \u001b[1;33m\u001b[0m\u001b[0m\n\u001b[0;32m    244\u001b[0m     \u001b[1;32mdef\u001b[0m \u001b[0m_value_or_default\u001b[0m\u001b[1;33m(\u001b[0m\u001b[0mself\u001b[0m\u001b[1;33m,\u001b[0m \u001b[0mobj\u001b[0m\u001b[1;33m,\u001b[0m \u001b[0mkey\u001b[0m\u001b[1;33m,\u001b[0m \u001b[0mdefault\u001b[0m\u001b[1;33m)\u001b[0m\u001b[1;33m:\u001b[0m\u001b[1;33m\u001b[0m\u001b[1;33m\u001b[0m\u001b[0m\n",
      "\u001b[1;31mSessionNotCreatedException\u001b[0m: Message: session not created: This version of ChromeDriver only supports Chrome version 77\n"
     ]
    }
   ],
   "source": [
    "driver = webdriver.Chrome()"
   ]
  },
  {
   "cell_type": "code",
   "execution_count": 16,
   "metadata": {},
   "outputs": [
    {
     "ename": "NameError",
     "evalue": "name 'driver' is not defined",
     "output_type": "error",
     "traceback": [
      "\u001b[1;31m---------------------------------------------------------------------------\u001b[0m",
      "\u001b[1;31mNameError\u001b[0m                                 Traceback (most recent call last)",
      "\u001b[1;32m<ipython-input-16-136394a9d088>\u001b[0m in \u001b[0;36m<module>\u001b[1;34m\u001b[0m\n\u001b[0;32m      4\u001b[0m     \u001b[1;32mpass\u001b[0m\u001b[1;33m\u001b[0m\u001b[1;33m\u001b[0m\u001b[0m\n\u001b[0;32m      5\u001b[0m \u001b[1;33m\u001b[0m\u001b[0m\n\u001b[1;32m----> 6\u001b[1;33m \u001b[0mdriver\u001b[0m\u001b[1;33m.\u001b[0m\u001b[0mget\u001b[0m\u001b[1;33m(\u001b[0m\u001b[1;34m'http://portal.chmi.cz/predpovedi/predpovedi-pocasi/letecke/sportovni-letani'\u001b[0m\u001b[1;33m)\u001b[0m\u001b[1;33m\u001b[0m\u001b[1;33m\u001b[0m\u001b[0m\n\u001b[0m\u001b[0;32m      7\u001b[0m \u001b[1;33m\u001b[0m\u001b[0m\n\u001b[0;32m      8\u001b[0m \u001b[0msportovni\u001b[0m \u001b[1;33m=\u001b[0m \u001b[0mdriver\u001b[0m\u001b[1;33m.\u001b[0m\u001b[0mfind_element_by_xpath\u001b[0m\u001b[1;33m(\u001b[0m\u001b[1;34m'//*[@id=\"loadedcontent\"]/pre'\u001b[0m\u001b[1;33m)\u001b[0m\u001b[1;33m\u001b[0m\u001b[1;33m\u001b[0m\u001b[0m\n",
      "\u001b[1;31mNameError\u001b[0m: name 'driver' is not defined"
     ]
    }
   ],
   "source": [
    "try:\n",
    "    driver = webdriver.Chrome()\n",
    "except:\n",
    "    pass\n",
    "\n",
    "driver.get('http://portal.chmi.cz/predpovedi/predpovedi-pocasi/letecke/sportovni-letani')\n",
    "\n",
    "sportovni = driver.find_element_by_xpath('//*[@id=\"loadedcontent\"]/pre')\n",
    "\n",
    "sportovni_predpoved = sportovni.text\n",
    "\n",
    "# driver.close()"
   ]
  },
  {
   "cell_type": "code",
   "execution_count": null,
   "metadata": {},
   "outputs": [],
   "source": [
    "try:\n",
    "#     driver = webdriver.Chrome()\n",
    "    meteogram_lkpn_url = \"http://portal.chmi.cz/files/portal/docs/meteo/ov/aladin/results/public/meteogramy\" \\\n",
    "    \"/meteogram_page_portal/m.html#Podho%C5%99any%20(LKPN)\"\n",
    "\n",
    "    driver.get(meteogram_lkpn_url)\n",
    "    driver.implicitly_wait(4)\n",
    "\n",
    "    meteogram_img_url = driver.find_element_by_xpath('//*[@id=\"met-img\"]').find_element_by_tag_name(\"img\").get_attribute(\"src\")\n",
    "\n",
    "    meteogram_img = load_image_form_url(meteogram_img_url, \"meteogram_lkpn.png\")\n",
    "\n",
    "    driver.close()\n",
    "except:\n",
    "    meteogram_img = 'downloads/meteogram_lkpn.png'"
   ]
  },
  {
   "cell_type": "code",
   "execution_count": null,
   "metadata": {},
   "outputs": [],
   "source": [
    "sportovni_predpoved = sportovni_predpoved.split(\"POZNAMKA - Odkazy\")[0]"
   ]
  },
  {
   "cell_type": "code",
   "execution_count": null,
   "metadata": {
    "scrolled": false
   },
   "outputs": [],
   "source": [
    "def add_bold(line):\n",
    "    if \":\" not in line:\n",
    "        return line\n",
    "    split = line.split(\":\", maxsplit=1)\n",
    "    return f\"<B>{split[0]}:</B>{split[1]}\"\n",
    "\n",
    "fontsize = 12\n",
    "\n",
    "sportovni_predpoved_html = \"\\n\".join(add_bold(line) for line in sportovni_predpoved.splitlines())\n",
    "sportovni_predpoved_html = markdown2.markdown(sportovni_predpoved_html).replace(\"\\n\", \"</p><p>\")\n",
    "sportovni_predpoved_html = f'<font face=\"courier\" size=\"{fontsize}\">' + sportovni_predpoved_html + '</font>'\n",
    "\n",
    "sportovni_predpoved_html = sportovni_predpoved_html.replace(r\"<p><p>\", r\"<p>\")\n",
    "sportovni_predpoved_html = sportovni_predpoved_html.replace(r\"</p></p>\", r\"</p>\")\n",
    "sportovni_predpoved_html = sportovni_predpoved_html.replace(r\"</p><p></p><p>\", r\"</p><p>\")\n",
    "sportovni_predpoved_html = sportovni_predpoved_html.replace(r\"<code>\", r\"\")\n",
    "sportovni_predpoved_html = sportovni_predpoved_html.replace(r\"</code>\", r\"\")\n",
    "sportovni_predpoved_html = sportovni_predpoved_html.replace(r\"<pre>\", r\"\")\n",
    "sportovni_predpoved_html = sportovni_predpoved_html.replace(r\"</pre>\", r\"\")\n",
    "\n",
    "print(sportovni_predpoved_html)"
   ]
  },
  {
   "cell_type": "code",
   "execution_count": null,
   "metadata": {},
   "outputs": [],
   "source": [
    "time = str(datetime.datetime.utcnow())[0:16]\n",
    "hours = time[:13].replace(\" \", \"-\")\n",
    "\n",
    "print(time)"
   ]
  },
  {
   "cell_type": "code",
   "execution_count": null,
   "metadata": {},
   "outputs": [],
   "source": [
    "from fpdf import html\n",
    "class PocasiPdf(FPDF, html.HTMLMixin):\n",
    "    def header(self):\n",
    "        self.set_font('Courier', '', fontsize)\n",
    "        self.cell(192, txt=f\"vygenerovalo GLIDEINFO {time} UTC\", align='R')\n",
    "        \n",
    "    def footer(self):\n",
    "        self.set_font('Courier', '', fontsize)\n",
    "        self.set_xy(10, 290)\n",
    "        self.cell(192, txt=f\"Martin Stránský stranma5@gmail.com\", align='R')"
   ]
  },
  {
   "cell_type": "code",
   "execution_count": null,
   "metadata": {},
   "outputs": [],
   "source": [
    "pdf = PocasiPdf()\n",
    "\n",
    "pdf.add_page()\n",
    "pdf.set_xy(10, 18)\n",
    "pdf.set_font('Courier', '', 12)\n",
    "pdf.multi_cell(w=192, h=4, txt=metar)\n",
    "pdf.set_xy(10, 30)\n",
    "pdf.set_font('Courier', '', 16)\n",
    "pdf.cell(w=192, txt=\"CHMI SPORTOVNI PREDPOVED (link):\", \n",
    "         link=\"http://portal.chmi.cz/predpovedi/predpovedi-pocasi/letecke/sportovni-letani\")\n",
    "pdf.set_xy(10, 32)\n",
    "pdf.write_html(sportovni_predpoved_html)\n",
    "\n",
    "pdf.add_page()\n",
    "pdf.image(vystup_png, x=10, y=14, h=140, \n",
    "          link=link)\n",
    "pdf.image(vystup_png_2, x=10, y=152, h=140, \n",
    "          link=link_2)\n",
    "\n",
    "pdf.add_page()\n",
    "pdf.image(meteogram_img, x=10, y=13, h=280, link=meteogram_lkpn_url)\n",
    "\n",
    "pdf.add_page()\n",
    "pdf.image(meteogram_png, x=10, y=13, h=140, link=\"http://flymet.meteopress.cz/meteogram/\")\n",
    "for i, dkt_png in enumerate(dkt_pngs):\n",
    "    pdf.image(dkt_png, x=10+i*60, y=150, h=45, link=\"http://flymet.meteopress.cz/cr/?gmetyp=cudf&gmepic=16\")\n",
    "for i, cukh_png in enumerate(cukh_pngs):\n",
    "    pdf.image(cukh_png, x=10+i*60, y=195, h=45, link=\"http://flymet.meteopress.cz/cr/?gmetyp=cukh&gmepic=16\")\n",
    "for i, curyb_png in enumerate(curyb_pngs):\n",
    "    pdf.image(curyb_png, x=10+i*60, y=240, h=45, link=\"http://flymet.meteopress.cz/cr/?gmetyp=curyb&gmepic=16\")\n",
    "\n",
    "pdf.add_page()\n",
    "pdf.image(synoptika_gif, x=10, y=13, w=192,\n",
    "          link=\"http://portal.chmi.cz/aktualni-situace/aktualni-stav-pocasi/evropa/synopticka-situace\")\n",
    "pdf.image(synoptika_pred_gif, x=10, y=152, w=192,\n",
    "          link=\"http://portal.chmi.cz/predpovedi/predpovedi-pocasi/evropa/synopticka-situace\")\n",
    "\n",
    "# pdf.image(kumuly_png, x=10, y=10, h=140, link=\"http://flymet.meteopress.cz/cr/?gmetyp=cukh&gmepic=12\")\n",
    "# pdf.image(vyuzitelnost_png, x=10, y=150, h=140, link=\"http://flymet.meteopress.cz/vyu1.php\")\n",
    "\n",
    "pocasi_pdf = pathlib.Path(f\"pocasi_shrnuti_{hours}.pdf\")\n",
    "\n",
    "try:\n",
    "    pdf.output(pocasi_pdf, \"F\")\n",
    "    subprocess.run(['start', str(pocasi_pdf)], shell=True)\n",
    "except:\n",
    "    print(\"Zavři předchozí přehled nebo ho smaž. Restartuj počítač, pokud to nepomůže.\")\n",
    "    input()"
   ]
  },
  {
   "cell_type": "code",
   "execution_count": null,
   "metadata": {},
   "outputs": [],
   "source": []
  }
 ],
 "metadata": {
  "kernelspec": {
   "display_name": "Python 3",
   "language": "python",
   "name": "python3"
  },
  "language_info": {
   "codemirror_mode": {
    "name": "ipython",
    "version": 3
   },
   "file_extension": ".py",
   "mimetype": "text/x-python",
   "name": "python",
   "nbconvert_exporter": "python",
   "pygments_lexer": "ipython3",
   "version": "3.7.3"
  }
 },
 "nbformat": 4,
 "nbformat_minor": 2
}
